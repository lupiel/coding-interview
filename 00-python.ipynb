{
  "nbformat": 4,
  "nbformat_minor": 0,
  "metadata": {
    "colab": {
      "provenance": [],
      "authorship_tag": "ABX9TyONJdjGnfpUjwc4G/AwSar5",
      "include_colab_link": true
    },
    "kernelspec": {
      "name": "python3",
      "display_name": "Python 3"
    },
    "language_info": {
      "name": "python"
    }
  },
  "cells": [
    {
      "cell_type": "markdown",
      "metadata": {
        "id": "view-in-github",
        "colab_type": "text"
      },
      "source": [
        "<a href=\"https://colab.research.google.com/github/lupiel/coding-interview/blob/main/00-python.ipynb\" target=\"_parent\"><img src=\"https://colab.research.google.com/assets/colab-badge.svg\" alt=\"Open In Colab\"/></a>"
      ]
    },
    {
      "cell_type": "markdown",
      "source": [
        "# Variables"
      ],
      "metadata": {
        "id": "ZK-UEG8WrgJp"
      }
    },
    {
      "cell_type": "code",
      "source": [
        "!python --version"
      ],
      "metadata": {
        "colab": {
          "base_uri": "https://localhost:8080/"
        },
        "id": "jtl4uP12rfwR",
        "outputId": "4beab0dd-39cd-4761-dcc9-5ad2ac1335c8"
      },
      "execution_count": 2,
      "outputs": [
        {
          "output_type": "stream",
          "name": "stdout",
          "text": [
            "Python 3.11.12\n"
          ]
        }
      ]
    },
    {
      "cell_type": "code",
      "execution_count": 5,
      "metadata": {
        "id": "jpUnoXZyq5k0",
        "colab": {
          "base_uri": "https://localhost:8080/"
        },
        "outputId": "6aa3ab87-3821-4b5b-9d3c-ce660d9310b6"
      },
      "outputs": [
        {
          "output_type": "stream",
          "name": "stdout",
          "text": [
            "n=0\n"
          ]
        }
      ],
      "source": [
        "n = 0\n",
        "print(f\"{n=}\")"
      ]
    },
    {
      "cell_type": "code",
      "source": [
        "n = \"abc\"\n",
        "print(\"n\", n)"
      ],
      "metadata": {
        "colab": {
          "base_uri": "https://localhost:8080/"
        },
        "id": "-u-EzhSKrplu",
        "outputId": "2ba4205d-56ef-4b41-e4fc-bfe429a7cc3c"
      },
      "execution_count": 7,
      "outputs": [
        {
          "output_type": "stream",
          "name": "stdout",
          "text": [
            "n abc\n"
          ]
        }
      ]
    },
    {
      "cell_type": "code",
      "source": [
        "i, j = 0, 1\n",
        "i += 1\n",
        "j -= 1\n",
        "print(f\"({i=},{j=})\")"
      ],
      "metadata": {
        "colab": {
          "base_uri": "https://localhost:8080/"
        },
        "id": "PXoQi7KWryNU",
        "outputId": "a9757ce7-d3a0-445c-889c-82d63abf9712"
      },
      "execution_count": 9,
      "outputs": [
        {
          "output_type": "stream",
          "name": "stdout",
          "text": [
            "(i=1,j=0)\n"
          ]
        }
      ]
    },
    {
      "cell_type": "code",
      "source": [],
      "metadata": {
        "id": "H_6oDNkVr9T0"
      },
      "execution_count": null,
      "outputs": []
    },
    {
      "cell_type": "markdown",
      "source": [
        "# if"
      ],
      "metadata": {
        "id": "197g8IbGsCF-"
      }
    },
    {
      "cell_type": "code",
      "source": [
        "# If statements don't need parentheses\n",
        "# or curly braces.\n",
        "n = 1\n",
        "if n > 2:\n",
        "    n -= 1\n",
        "elif n == 2:\n",
        "    n *= 2\n",
        "else:\n",
        "    n += 2\n",
        "\n",
        "# Parentheses needed for multi-line conditions.\n",
        "# and = &&\n",
        "# or  = ||\n",
        "n, m = 1, 2\n",
        "if ((n > 2 and\n",
        "    n != m) or n == m):\n",
        "    n += 1"
      ],
      "metadata": {
        "id": "VS2gwMossEDB"
      },
      "execution_count": 10,
      "outputs": []
    },
    {
      "cell_type": "markdown",
      "source": [
        "# Loops"
      ],
      "metadata": {
        "id": "Vp6awEh4sO6c"
      }
    },
    {
      "cell_type": "code",
      "source": [
        "n = 5\n",
        "while n < 5:\n",
        "    print(n)\n",
        "    n += 1\n",
        "\n",
        "# Looping from i = 0 to i = 4\n",
        "for i in range(5):\n",
        "    print(\"\", i)\n",
        "\n",
        "# Looping from i = 2 to i = 5\n",
        "for i in range(2, 6):\n",
        "    print(\"  \", i)\n",
        "\n",
        "# Looping from i = 5 to i = 2\n",
        "for i in range(5, 1, -1):\n",
        "    print(\"\", i)\n",
        "\n",
        "# looping with index\n",
        "languages = [\"Python\", \"Java\", \"C++\"]\n",
        "for i, lang in enumerate(languages):\n",
        "  print(f\"Index={i}, Language={lang}\")"
      ],
      "metadata": {
        "colab": {
          "base_uri": "https://localhost:8080/"
        },
        "id": "d55gJpZbsNhh",
        "outputId": "b83caf6f-5317-4c18-9b47-b8a337797596"
      },
      "execution_count": 12,
      "outputs": [
        {
          "output_type": "stream",
          "name": "stdout",
          "text": [
            " 0\n",
            " 1\n",
            " 2\n",
            " 3\n",
            " 4\n",
            "   2\n",
            "   3\n",
            "   4\n",
            "   5\n",
            " 5\n",
            " 4\n",
            " 3\n",
            " 2\n",
            "Index=0, Language=Python\n",
            "Index=1, Language=Java\n",
            "Index=2, Language=C++\n"
          ]
        }
      ]
    },
    {
      "cell_type": "markdown",
      "source": [
        "# Math"
      ],
      "metadata": {
        "id": "YRwROcSOsuXF"
      }
    },
    {
      "cell_type": "code",
      "source": [
        "print(\"3//2\\t\\t=\", 3 // 2)\n",
        "print(\"int(3/2)\\t=\", int(3 / 2))\n",
        "print(\"round(3/2)\\t=\", round(3 / 2))\n",
        "print(\"3 / 2\\t\\t=\", 3 / 2)\n",
        "\n",
        "print()\n",
        "\n",
        "print(\"-3//2\\t\\t=\", -3 // 2)\n",
        "print(\"int(-3/2)\\t=\", int(-3 / 2))\n",
        "print(\"round(-3/2)\\t=\", round(-3 / 2))\n",
        "print(\"-3/2\\t\\t=\", -3 / 2)"
      ],
      "metadata": {
        "colab": {
          "base_uri": "https://localhost:8080/"
        },
        "id": "6tLpdSxqspjm",
        "outputId": "5171e1bd-7633-4d8d-dba8-95a0d3a47ce1"
      },
      "execution_count": 22,
      "outputs": [
        {
          "output_type": "stream",
          "name": "stdout",
          "text": [
            "3//2\t\t= 1\n",
            "int(3/2)\t= 1\n",
            "round(3/2)\t= 2\n",
            "3 / 2\t\t= 1.5\n",
            "\n",
            "-3//2\t\t= -2\n",
            "int(-3/2)\t= -1\n",
            "round(-3/2)\t= -2\n",
            "-3/2\t\t= -1.5\n"
          ]
        }
      ]
    },
    {
      "cell_type": "code",
      "source": [
        "import math\n",
        "\n",
        "print(\"10 % 3\\t=\", 10 % 3)\n",
        "print(\"-10 % 3\\t=\", -10 % 3)\n",
        "\n",
        "print(math.fmod(10, 3))\n",
        "print(math.fmod(-10, 3))"
      ],
      "metadata": {
        "colab": {
          "base_uri": "https://localhost:8080/"
        },
        "id": "TXe52bomtIYp",
        "outputId": "a27f3e06-5bc3-4e93-be97-d05cb971a55d"
      },
      "execution_count": 33,
      "outputs": [
        {
          "output_type": "stream",
          "name": "stdout",
          "text": [
            "10 % 3\t= 1\n",
            "-10 % 3\t= 2\n",
            "1.0\n",
            "-1.0\n"
          ]
        }
      ]
    },
    {
      "cell_type": "code",
      "source": [
        "# More math helpers\n",
        "print(math.floor(3 / 2))\n",
        "print(math.ceil(3 / 2))\n",
        "print(math.sqrt(2))\n",
        "print(math.pow(2, 3))\n",
        "\n",
        "# Max / Min Int\n",
        "print(float(\"inf\"))\n",
        "print(float(\"-inf\"))\n",
        "print(math.pow(2, 200))\n",
        "print(math.pow(2, 200) < float(\"inf\"))"
      ],
      "metadata": {
        "colab": {
          "base_uri": "https://localhost:8080/"
        },
        "id": "-FRYqtNht-x5",
        "outputId": "f088ac02-6a18-4ffc-d1de-4d265efa98fa"
      },
      "execution_count": 36,
      "outputs": [
        {
          "output_type": "stream",
          "name": "stdout",
          "text": [
            "1\n",
            "2\n",
            "1.4142135623730951\n",
            "8.0\n",
            "inf\n",
            "-inf\n",
            "1.6069380442589903e+60\n",
            "True\n"
          ]
        }
      ]
    },
    {
      "cell_type": "markdown",
      "source": [
        "# Arrays"
      ],
      "metadata": {
        "id": "_USwGzR7ulWX"
      }
    },
    {
      "cell_type": "code",
      "source": [
        "# Arrays (called lists in python)\n",
        "arr = [1, 2, 3]\n",
        "print(arr)\n",
        "\n",
        "# Can be used as a stack\n",
        "arr.append(4)\n",
        "arr.append(5)\n",
        "print(arr)\n",
        "\n",
        "arr.pop()\n",
        "print(arr)\n",
        "\n",
        "arr.insert(1, 7)\n",
        "print(arr)\n",
        "\n",
        "arr[0] = 0\n",
        "arr[3] = 0\n",
        "print(arr)\n",
        "\n",
        "# Initialize arr of size n with default value of 1\n",
        "n = 5\n",
        "arr = [1] * n\n",
        "print(arr)\n",
        "print(len(arr))\n",
        "\n",
        "# Careful: -1 is not out of bounds, it's the last value\n",
        "arr = [1, 2, 3]\n",
        "print(arr[-1])\n",
        "\n",
        "# Indexing -2 is the second to last value, etc.\n",
        "print(arr[-2])\n",
        "\n",
        "# Sublists (aka slicing)\n",
        "arr = [1, 2, 3, 4]\n",
        "print(arr[1:3])\n",
        "\n",
        "# Similar to for-loop ranges, last index is non-inclusive\n",
        "print(arr[0:4])\n",
        "\n",
        "# But no out of bounds error\n",
        "print(arr[0:10])\n",
        "\n",
        "# Unpacking\n",
        "a, b, c = [1, 2, 3]\n",
        "print(a, b, c)\n",
        "\n",
        "# Be careful though\n",
        "# a, b = [1, 2, 3]\n",
        "\n",
        "# Loop through arrays\n",
        "nums = [1, 2, 3]\n",
        "\n",
        "# Using index\n",
        "for i in range(len(nums)):\n",
        "    print(nums[i])\n",
        "\n",
        "# Without index\n",
        "for n in nums:\n",
        "    print(n)\n",
        "\n",
        "# With index and value\n",
        "for i, n in enumerate(nums):\n",
        "    print(i, n)\n",
        "\n",
        "# Loop through multiple arrays simultaneously with unpacking\n",
        "nums1 = [1, 3, 5]\n",
        "nums2 = [2, 4, 6]\n",
        "for n1, n2 in zip(nums1, nums2):\n",
        "    print(n1, n2)\n",
        "\n",
        "# Reverse\n",
        "nums = [1, 2, 3]\n",
        "nums.reverse()\n",
        "print(nums)\n",
        "\n",
        "# Sorting\n",
        "arr = [5, 4, 7, 3, 8]\n",
        "arr.sort()\n",
        "print(arr)\n",
        "\n",
        "arr.sort(reverse=True)\n",
        "print(arr)\n",
        "\n",
        "arr = [\"bob\", \"alice\", \"jane\", \"doe\"]\n",
        "arr.sort()\n",
        "print(arr)\n",
        "\n",
        "# Custom sort (by length of string)\n",
        "arr.sort(key=lambda x: len(x))\n",
        "print(arr)\n",
        "\n",
        "\n",
        "# List comprehension\n",
        "arr = [i for i in range(5)]\n",
        "print(arr)\n",
        "\n",
        "# 2-D lists\n",
        "arr = [[0] * 4 for i in range(4)]\n",
        "print(arr)\n",
        "print(arr[0][0], arr[3][3])\n",
        "\n",
        "# This won't work\n",
        "# arr = [[0] * 4] * 4\n",
        "\n",
        "arr = [\"a\", -1, 3.14]\n",
        "print(arr[::-1])"
      ],
      "metadata": {
        "colab": {
          "base_uri": "https://localhost:8080/"
        },
        "id": "LUIXMjDruZM2",
        "outputId": "2dfde470-9b21-4948-d1da-b635ff674f8a"
      },
      "execution_count": 37,
      "outputs": [
        {
          "output_type": "stream",
          "name": "stdout",
          "text": [
            "[1, 2, 3]\n",
            "[1, 2, 3, 4, 5]\n",
            "[1, 2, 3, 4]\n",
            "[1, 7, 2, 3, 4]\n",
            "[0, 7, 2, 0, 4]\n",
            "[1, 1, 1, 1, 1]\n",
            "5\n",
            "3\n",
            "2\n",
            "[2, 3]\n",
            "[1, 2, 3, 4]\n",
            "[1, 2, 3, 4]\n",
            "1 2 3\n",
            "1\n",
            "2\n",
            "3\n",
            "1\n",
            "2\n",
            "3\n",
            "0 1\n",
            "1 2\n",
            "2 3\n",
            "1 2\n",
            "3 4\n",
            "5 6\n",
            "[3, 2, 1]\n",
            "[3, 4, 5, 7, 8]\n",
            "[8, 7, 5, 4, 3]\n",
            "['alice', 'bob', 'doe', 'jane']\n",
            "['bob', 'doe', 'jane', 'alice']\n",
            "[0, 1, 2, 3, 4]\n",
            "[[0, 0, 0, 0], [0, 0, 0, 0], [0, 0, 0, 0], [0, 0, 0, 0]]\n",
            "0 0\n",
            "[3.14, -1, 'a']\n"
          ]
        }
      ]
    },
    {
      "cell_type": "markdown",
      "source": [
        "# Strings"
      ],
      "metadata": {
        "id": "dFrtnUuRxqkv"
      }
    },
    {
      "cell_type": "code",
      "source": [
        "# Strings are similar to arrays\n",
        "s = \"abc\"\n",
        "print(s[0:2])\n",
        "\n",
        "# But they are immutable\n",
        "# s[0] = \"A\"\n",
        "\n",
        "# So this creates a new string\n",
        "s += \"def\"\n",
        "print(s)\n",
        "\n",
        "# Valid numeric strings can be converted\n",
        "print(int(\"123\") + int(\"123\"))\n",
        "\n",
        "# And numbers can be converted to strings\n",
        "print(str(123) + str(123))\n",
        "\n",
        "# In rare cases you may need the ASCII value of a char\n",
        "print(chr(97), ord(\"a\"))\n",
        "print(chr(98), ord(\"b\"))\n",
        "\n",
        "# Combine a list of strings (with an empty string delimitor)\n",
        "strings = [\"ab\", \"cd\", \"ef\"]\n",
        "print(\".\".join(strings))"
      ],
      "metadata": {
        "colab": {
          "base_uri": "https://localhost:8080/"
        },
        "id": "T8BkdnVrxd1E",
        "outputId": "6c9b80e5-7367-4608-fe39-ea579b9082ae"
      },
      "execution_count": 40,
      "outputs": [
        {
          "output_type": "stream",
          "name": "stdout",
          "text": [
            "ab\n",
            "abcdef\n",
            "246\n",
            "123123\n",
            "a 97\n",
            "b 98\n",
            "a\n",
            "b\n",
            "ab.cd.ef\n"
          ]
        }
      ]
    },
    {
      "cell_type": "markdown",
      "source": [
        "# Queue"
      ],
      "metadata": {
        "id": "upXNEmPTyB_K"
      }
    },
    {
      "cell_type": "code",
      "source": [
        "from collections import deque\n",
        "\n",
        "queue = deque()\n",
        "queue.append(1)\n",
        "queue.append(2)\n",
        "print(queue)\n",
        "print(queue[0], queue[-1])\n",
        "\n",
        "queue.popleft()\n",
        "print(queue)\n",
        "\n",
        "queue.appendleft(\"a\")\n",
        "print(queue)\n",
        "\n",
        "queue.pop()\n",
        "print(queue)"
      ],
      "metadata": {
        "colab": {
          "base_uri": "https://localhost:8080/"
        },
        "id": "22qVB4ZXxvm6",
        "outputId": "2a67c590-5eaf-488d-89c4-debbbd6434d6"
      },
      "execution_count": 46,
      "outputs": [
        {
          "output_type": "stream",
          "name": "stdout",
          "text": [
            "deque([1, 2])\n",
            "1 2\n",
            "deque([2])\n",
            "deque(['a', 2])\n",
            "deque(['a'])\n"
          ]
        }
      ]
    },
    {
      "cell_type": "markdown",
      "source": [
        "# Hash Set"
      ],
      "metadata": {
        "id": "O4uonC-MylZB"
      }
    },
    {
      "cell_type": "code",
      "source": [
        "# HashSet\n",
        "mySet = set()\n",
        "\n",
        "mySet.add(1)\n",
        "mySet.add(2)\n",
        "print(mySet)\n",
        "print(len(mySet))\n",
        "\n",
        "print(1 in mySet)\n",
        "print(2 in mySet)\n",
        "print(3 in mySet)\n",
        "\n",
        "mySet.remove(2)\n",
        "print(2 in mySet)\n",
        "\n",
        "# list to set\n",
        "print(set([1, 2, 3]))\n",
        "\n",
        "# Set comprehension\n",
        "mySet = { i for i in range(5) }\n",
        "print(mySet)\n"
      ],
      "metadata": {
        "colab": {
          "base_uri": "https://localhost:8080/"
        },
        "id": "ec5AOxdRyOJG",
        "outputId": "191a560f-495a-4e7b-e5bc-76b6bfb85f8e"
      },
      "execution_count": 47,
      "outputs": [
        {
          "output_type": "stream",
          "name": "stdout",
          "text": [
            "{1, 2}\n",
            "2\n",
            "True\n",
            "True\n",
            "False\n",
            "False\n",
            "{1, 2, 3}\n",
            "{0, 1, 2, 3, 4}\n"
          ]
        }
      ]
    },
    {
      "cell_type": "markdown",
      "source": [
        "# HashMap"
      ],
      "metadata": {
        "id": "890j1B2cy1z3"
      }
    },
    {
      "cell_type": "code",
      "source": [
        "# HashMap (aka dict)\n",
        "myMap = {}\n",
        "myMap[\"alice\"] = 88\n",
        "myMap[\"bob\"] = 77\n",
        "print(myMap)\n",
        "print(len(myMap))\n",
        "\n",
        "myMap[\"alice\"] = 80\n",
        "print(myMap[\"alice\"])\n",
        "\n",
        "print(\"alice\" in myMap)\n",
        "print(myMap.pop(\"alice\"))\n",
        "print(\"alice\" in myMap)\n",
        "\n",
        "myMap = { \"alice\": 90, \"bob\": 70 }\n",
        "print(myMap)\n",
        "\n",
        "print(\"\\n# Dict comprehension\")\n",
        "myMap = { i: 2*i for i in range(3) }\n",
        "print(myMap)\n",
        "\n",
        "print(\"\\n# Looping through maps\")\n",
        "myMap = { \"alice\": 90, \"bob\": 70 }\n",
        "for key in myMap:\n",
        "    print(key, myMap[key])\n",
        "\n",
        "for val in myMap.values():\n",
        "    print(val)\n",
        "\n",
        "for key, val in myMap.items():\n",
        "    print(key, val)\n",
        "\n",
        "print(\"\\n# sorting dict by value\")\n",
        "sor = dict(sorted(myMap.items(), key=lambda i: i[1]))\n",
        "print(sor)"
      ],
      "metadata": {
        "colab": {
          "base_uri": "https://localhost:8080/"
        },
        "id": "Uju2Iw-HyqFK",
        "outputId": "453799e6-ca62-4b4a-a055-f7d61dcd50e9"
      },
      "execution_count": 51,
      "outputs": [
        {
          "output_type": "stream",
          "name": "stdout",
          "text": [
            "{'alice': 88, 'bob': 77}\n",
            "2\n",
            "80\n",
            "True\n",
            "80\n",
            "False\n",
            "{'alice': 90, 'bob': 70}\n",
            "\n",
            "# Dict comprehension\n",
            "{0: 0, 1: 2, 2: 4}\n",
            "\n",
            "# Looping through maps\n",
            "alice 90\n",
            "bob 70\n",
            "90\n",
            "70\n",
            "alice 90\n",
            "bob 70\n",
            "\n",
            "# sorting dict by value\n",
            "{'bob': 70, 'alice': 90}\n"
          ]
        }
      ]
    },
    {
      "cell_type": "markdown",
      "source": [
        "# Tuples\n",
        "Immutable and hashable"
      ],
      "metadata": {
        "id": "BBPGlnE_zs7d"
      }
    },
    {
      "cell_type": "code",
      "source": [
        "# Tuples are like arrays but immutable\n",
        "tup = (1, 2, 3)\n",
        "print(tup)\n",
        "print(tup[0])\n",
        "print(tup[-1])\n",
        "\n",
        "# Can't modify\n",
        "# tup[0] = 0\n",
        "\n",
        "# Can be used as key for hash map/set\n",
        "myMap = { (1,2): 3 }\n",
        "print(myMap[(1,2)])\n",
        "\n",
        "mySet = set()\n",
        "mySet.add((1, 2))\n",
        "print((1, 2) in mySet)\n",
        "\n",
        "# Lists can't be keys\n",
        "# myMap[[3, 4]] = 5"
      ],
      "metadata": {
        "colab": {
          "base_uri": "https://localhost:8080/"
        },
        "id": "-pXpIM3AzGN_",
        "outputId": "bb3a2506-7561-49db-9b16-d8743b83f121"
      },
      "execution_count": 52,
      "outputs": [
        {
          "output_type": "stream",
          "name": "stdout",
          "text": [
            "(1, 2, 3)\n",
            "1\n",
            "3\n",
            "3\n",
            "True\n"
          ]
        }
      ]
    },
    {
      "cell_type": "markdown",
      "source": [
        "# Heaps"
      ],
      "metadata": {
        "id": "s342Tdzq0HI7"
      }
    },
    {
      "cell_type": "code",
      "source": [
        "import heapq\n",
        "\n",
        "minHeap = [7,0]\n",
        "heapq.heapify(minHeap)         # heapify  O(n)\n",
        "print(minHeap)\n",
        "heapq.heappush(minHeap, -7)    # heappush O(log n)\n",
        "print(minHeap)\n",
        "minHeap[0]                     # peak     O(1)\n",
        "heapq.heappop(minHeap)         # pop      O(log n)\n"
      ],
      "metadata": {
        "id": "IrtamU9E0IqW",
        "outputId": "77bb2fe2-5e06-482e-b34b-f4cbde2d288e",
        "colab": {
          "base_uri": "https://localhost:8080/"
        }
      },
      "execution_count": 56,
      "outputs": [
        {
          "output_type": "stream",
          "name": "stdout",
          "text": [
            "[0, 7]\n",
            "[-7, 7, 0]\n"
          ]
        },
        {
          "output_type": "execute_result",
          "data": {
            "text/plain": [
              "-7"
            ]
          },
          "metadata": {},
          "execution_count": 56
        }
      ]
    },
    {
      "cell_type": "code",
      "source": [
        "# under the hood are arrays\n",
        "minHeap = []\n",
        "heapq.heappush(minHeap, -7)\n",
        "print(minHeap)\n",
        "heapq.heappush(minHeap, -8)\n",
        "print(minHeap)\n",
        "heapq.heappush(minHeap, 0)\n",
        "print(minHeap)\n",
        "heapq.heappush(minHeap, 9)\n",
        "print(minHeap)\n",
        "heapq.heappush(minHeap, 4)\n",
        "print(minHeap)\n",
        "heapq.heappush(minHeap, 7)\n",
        "print(minHeap)\n",
        "heapq.heappush(minHeap, 2)\n",
        "\n",
        "# Min is always at index 0\n",
        "print(minHeap[0])"
      ],
      "metadata": {
        "id": "ZhviVsDW0efk",
        "outputId": "ff60e16d-4817-4af4-eb41-079cf217bc75",
        "colab": {
          "base_uri": "https://localhost:8080/"
        }
      },
      "execution_count": 58,
      "outputs": [
        {
          "output_type": "stream",
          "name": "stdout",
          "text": [
            "[-7]\n",
            "[-8, -7]\n",
            "[-8, -7, 0]\n",
            "[-8, -7, 0, 9]\n",
            "[-8, -7, 0, 9, 4]\n",
            "[-8, -7, 0, 9, 4, 7]\n",
            "-8\n"
          ]
        }
      ]
    },
    {
      "cell_type": "code",
      "source": [
        "# heapsort\n",
        "while len(minHeap):\n",
        "    print(heapq.heappop(minHeap))"
      ],
      "metadata": {
        "id": "wcrN6kYv1Ak_",
        "outputId": "a5031da2-823d-4508-ed51-d2f25832106c",
        "colab": {
          "base_uri": "https://localhost:8080/"
        }
      },
      "execution_count": 59,
      "outputs": [
        {
          "output_type": "stream",
          "name": "stdout",
          "text": [
            "-8\n",
            "-7\n",
            "0\n",
            "2\n",
            "4\n",
            "7\n",
            "9\n"
          ]
        }
      ]
    },
    {
      "cell_type": "code",
      "source": [
        "arr = [(3, \"A\"),(5, \"B\"),(8,\"C\"),(4,\"D\"),(7,\"E\"),(1,\"F\"),(2,\"G\")]\n",
        "heapq.heapify(arr)\n",
        "print(arr)\n",
        "while len(arr):\n",
        "    print(heapq.heappop(arr))"
      ],
      "metadata": {
        "id": "r7Trpot_1I3V",
        "outputId": "d2b10cf3-cef4-4313-fe9d-3818ff3c837a",
        "colab": {
          "base_uri": "https://localhost:8080/"
        }
      },
      "execution_count": 60,
      "outputs": [
        {
          "output_type": "stream",
          "name": "stdout",
          "text": [
            "[(1, 'F'), (4, 'D'), (2, 'G'), (5, 'B'), (7, 'E'), (8, 'C'), (3, 'A')]\n",
            "(1, 'F')\n",
            "(2, 'G')\n",
            "(3, 'A')\n",
            "(4, 'D')\n",
            "(5, 'B')\n",
            "(7, 'E')\n",
            "(8, 'C')\n"
          ]
        }
      ]
    },
    {
      "cell_type": "code",
      "source": [
        "# No max heaps by default, work around is\n",
        "# to use min heap and multiply by -1 when push & pop.\n",
        "maxHeap = []\n",
        "heapq.heappush(maxHeap, -3)\n",
        "heapq.heappush(maxHeap, -2)\n",
        "heapq.heappush(maxHeap, -4)\n",
        "\n",
        "# Max is always at index 0\n",
        "print(-1 * maxHeap[0])\n",
        "\n",
        "while len(maxHeap):\n",
        "    print(-1 * heapq.heappop(maxHeap))\n",
        "\n",
        "# Build heap from initial values\n",
        "arr = [2, 1, 8, 4, 5]\n",
        "print(arr)\n",
        "heapq.heapify(arr)\n",
        "while arr:\n",
        "    print(heapq.heappop(arr))\n"
      ],
      "metadata": {
        "id": "aDhOO0n11P4s",
        "outputId": "600eaa2f-7c66-44e8-f50b-e931b0e2aafc",
        "colab": {
          "base_uri": "https://localhost:8080/"
        }
      },
      "execution_count": 62,
      "outputs": [
        {
          "output_type": "stream",
          "name": "stdout",
          "text": [
            "4\n",
            "4\n",
            "3\n",
            "2\n",
            "[2, 1, 8, 4, 5]\n",
            "1\n",
            "2\n",
            "4\n",
            "5\n",
            "8\n"
          ]
        }
      ]
    },
    {
      "cell_type": "code",
      "source": [
        "# Functions"
      ],
      "metadata": {
        "id": "h7tfSdz41Z_t"
      },
      "execution_count": 63,
      "outputs": []
    },
    {
      "cell_type": "code",
      "source": [
        "def myFunc(n, m):\n",
        "    return n * m\n",
        "\n",
        "print(myFunc(3, 4))\n",
        "\n",
        "# Nested functions have access to outer variables\n",
        "def outer(a, b):\n",
        "    c = \"c\"\n",
        "\n",
        "    def inner():\n",
        "        return a + b + c\n",
        "    return inner()\n",
        "\n",
        "print(outer(\"a\", \"b\"))\n",
        "\n",
        "# Can modify objects but not reassign\n",
        "# unless using nonlocal keyword\n",
        "def double(arr, val):\n",
        "    def helper():\n",
        "        # Modifying array works\n",
        "        for i, n in enumerate(arr):\n",
        "            arr[i] *= 2\n",
        "\n",
        "        # will only modify val in the helper scope\n",
        "        # val *= 2\n",
        "\n",
        "        # this will modify val outside helper scope\n",
        "        nonlocal val\n",
        "        val *= 2\n",
        "    helper()\n",
        "    print(arr, val)\n",
        "\n",
        "nums = [1, 2]\n",
        "val = 3\n",
        "double(nums, val)\n",
        "print(nums, val)\n"
      ],
      "metadata": {
        "id": "odZPTZmf1XNL",
        "outputId": "8443940d-6dde-43f9-c47c-2b1e060dbfc5",
        "colab": {
          "base_uri": "https://localhost:8080/"
        }
      },
      "execution_count": 64,
      "outputs": [
        {
          "output_type": "stream",
          "name": "stdout",
          "text": [
            "12\n",
            "abc\n",
            "[2, 4] 6\n",
            "[2, 4] 3\n"
          ]
        }
      ]
    },
    {
      "cell_type": "markdown",
      "source": [
        "# Classes"
      ],
      "metadata": {
        "id": "ySTFwP9J1k9y"
      }
    },
    {
      "cell_type": "code",
      "source": [
        "class MyClass:\n",
        "    # Constructor\n",
        "    def __init__(self, nums):\n",
        "        # Create member variables\n",
        "        self.nums = nums\n",
        "        self.size = len(nums)\n",
        "\n",
        "    # self key word required as param\n",
        "    def getLength(self):\n",
        "        return self.size\n",
        "\n",
        "    def getDoubleLength(self):\n",
        "        return 2 * self.getLength()\n",
        "\n",
        "myObj = MyClass([1, 2, 3])\n",
        "print(myObj.getLength())\n",
        "print(myObj.getDoubleLength())"
      ],
      "metadata": {
        "id": "TVxujx5E1igK",
        "outputId": "093b4f5f-bf1b-448f-8091-cb11ba7d520b",
        "colab": {
          "base_uri": "https://localhost:8080/"
        }
      },
      "execution_count": 65,
      "outputs": [
        {
          "output_type": "stream",
          "name": "stdout",
          "text": [
            "3\n",
            "6\n"
          ]
        }
      ]
    }
  ]
}