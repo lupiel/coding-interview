{
  "nbformat": 4,
  "nbformat_minor": 0,
  "metadata": {
    "colab": {
      "provenance": [],
      "authorship_tag": "ABX9TyNsIZTAqgHpBh+egtChLjj7",
      "include_colab_link": true
    },
    "kernelspec": {
      "name": "python3",
      "display_name": "Python 3"
    },
    "language_info": {
      "name": "python"
    }
  },
  "cells": [
    {
      "cell_type": "markdown",
      "metadata": {
        "id": "view-in-github",
        "colab_type": "text"
      },
      "source": [
        "<a href=\"https://colab.research.google.com/github/lupiel/coding-interview/blob/main/00-python.ipynb\" target=\"_parent\"><img src=\"https://colab.research.google.com/assets/colab-badge.svg\" alt=\"Open In Colab\"/></a>"
      ]
    },
    {
      "cell_type": "markdown",
      "source": [
        "# Variables"
      ],
      "metadata": {
        "id": "ZK-UEG8WrgJp"
      }
    },
    {
      "cell_type": "code",
      "source": [
        "!python --version"
      ],
      "metadata": {
        "id": "jtl4uP12rfwR",
        "outputId": "4beab0dd-39cd-4761-dcc9-5ad2ac1335c8",
        "colab": {
          "base_uri": "https://localhost:8080/"
        }
      },
      "execution_count": 2,
      "outputs": [
        {
          "output_type": "stream",
          "name": "stdout",
          "text": [
            "Python 3.11.12\n"
          ]
        }
      ]
    },
    {
      "cell_type": "code",
      "execution_count": 5,
      "metadata": {
        "id": "jpUnoXZyq5k0",
        "outputId": "6aa3ab87-3821-4b5b-9d3c-ce660d9310b6",
        "colab": {
          "base_uri": "https://localhost:8080/"
        }
      },
      "outputs": [
        {
          "output_type": "stream",
          "name": "stdout",
          "text": [
            "n=0\n"
          ]
        }
      ],
      "source": [
        "n = 0\n",
        "print(f\"{n=}\")"
      ]
    },
    {
      "cell_type": "code",
      "source": [
        "n = \"abc\"\n",
        "print(\"n\", n)"
      ],
      "metadata": {
        "id": "-u-EzhSKrplu",
        "outputId": "2ba4205d-56ef-4b41-e4fc-bfe429a7cc3c",
        "colab": {
          "base_uri": "https://localhost:8080/"
        }
      },
      "execution_count": 7,
      "outputs": [
        {
          "output_type": "stream",
          "name": "stdout",
          "text": [
            "n abc\n"
          ]
        }
      ]
    },
    {
      "cell_type": "code",
      "source": [
        "i, j = 0, 1\n",
        "i += 1\n",
        "j -= 1\n",
        "print(f\"({i=},{j=})\")"
      ],
      "metadata": {
        "id": "PXoQi7KWryNU",
        "outputId": "a9757ce7-d3a0-445c-889c-82d63abf9712",
        "colab": {
          "base_uri": "https://localhost:8080/"
        }
      },
      "execution_count": 9,
      "outputs": [
        {
          "output_type": "stream",
          "name": "stdout",
          "text": [
            "(i=1,j=0)\n"
          ]
        }
      ]
    },
    {
      "cell_type": "code",
      "source": [],
      "metadata": {
        "id": "H_6oDNkVr9T0"
      },
      "execution_count": null,
      "outputs": []
    },
    {
      "cell_type": "markdown",
      "source": [
        "# if"
      ],
      "metadata": {
        "id": "197g8IbGsCF-"
      }
    },
    {
      "cell_type": "code",
      "source": [
        "# If statements don't need parentheses\n",
        "# or curly braces.\n",
        "n = 1\n",
        "if n > 2:\n",
        "    n -= 1\n",
        "elif n == 2:\n",
        "    n *= 2\n",
        "else:\n",
        "    n += 2\n",
        "\n",
        "# Parentheses needed for multi-line conditions.\n",
        "# and = &&\n",
        "# or  = ||\n",
        "n, m = 1, 2\n",
        "if ((n > 2 and\n",
        "    n != m) or n == m):\n",
        "    n += 1"
      ],
      "metadata": {
        "id": "VS2gwMossEDB"
      },
      "execution_count": 10,
      "outputs": []
    },
    {
      "cell_type": "markdown",
      "source": [
        "# Loops"
      ],
      "metadata": {
        "id": "Vp6awEh4sO6c"
      }
    },
    {
      "cell_type": "code",
      "source": [
        "n = 5\n",
        "while n < 5:\n",
        "    print(n)\n",
        "    n += 1\n",
        "\n",
        "# Looping from i = 0 to i = 4\n",
        "for i in range(5):\n",
        "    print(\"\", i)\n",
        "\n",
        "# Looping from i = 2 to i = 5\n",
        "for i in range(2, 6):\n",
        "    print(\"  \", i)\n",
        "\n",
        "# Looping from i = 5 to i = 2\n",
        "for i in range(5, 1, -1):\n",
        "    print(\"\", i)\n",
        "\n",
        "# looping with index\n",
        "languages = [\"Python\", \"Java\", \"C++\"]\n",
        "for i, lang in enumerate(languages):\n",
        "  print(f\"Index={i}, Language={lang}\")"
      ],
      "metadata": {
        "id": "d55gJpZbsNhh",
        "outputId": "b83caf6f-5317-4c18-9b47-b8a337797596",
        "colab": {
          "base_uri": "https://localhost:8080/"
        }
      },
      "execution_count": 12,
      "outputs": [
        {
          "output_type": "stream",
          "name": "stdout",
          "text": [
            " 0\n",
            " 1\n",
            " 2\n",
            " 3\n",
            " 4\n",
            "   2\n",
            "   3\n",
            "   4\n",
            "   5\n",
            " 5\n",
            " 4\n",
            " 3\n",
            " 2\n",
            "Index=0, Language=Python\n",
            "Index=1, Language=Java\n",
            "Index=2, Language=C++\n"
          ]
        }
      ]
    },
    {
      "cell_type": "markdown",
      "source": [
        "# Math"
      ],
      "metadata": {
        "id": "YRwROcSOsuXF"
      }
    },
    {
      "cell_type": "code",
      "source": [
        "print(\"3//2\\t\\t=\", 3 // 2)\n",
        "print(\"int(3/2)\\t=\", int(3 / 2))\n",
        "print(\"round(3/2)\\t=\", round(3 / 2))\n",
        "print(\"3 / 2\\t\\t=\", 3 / 2)\n",
        "\n",
        "print()\n",
        "\n",
        "print(\"-3//2\\t\\t=\", -3 // 2)\n",
        "print(\"int(-3/2)\\t=\", int(-3 / 2))\n",
        "print(\"round(-3/2)\\t=\", round(-3 / 2))\n",
        "print(\"-3/2\\t\\t=\", -3 / 2)"
      ],
      "metadata": {
        "id": "6tLpdSxqspjm",
        "outputId": "5171e1bd-7633-4d8d-dba8-95a0d3a47ce1",
        "colab": {
          "base_uri": "https://localhost:8080/"
        }
      },
      "execution_count": 22,
      "outputs": [
        {
          "output_type": "stream",
          "name": "stdout",
          "text": [
            "3//2\t\t= 1\n",
            "int(3/2)\t= 1\n",
            "round(3/2)\t= 2\n",
            "3 / 2\t\t= 1.5\n",
            "\n",
            "-3//2\t\t= -2\n",
            "int(-3/2)\t= -1\n",
            "round(-3/2)\t= -2\n",
            "-3/2\t\t= -1.5\n"
          ]
        }
      ]
    },
    {
      "cell_type": "code",
      "source": [
        "import math\n",
        "\n",
        "print(\"10 % 3\\t=\", 10 % 3)\n",
        "print(\"-10 % 3\\t=\", -10 % 3)\n",
        "\n",
        "print(math.fmod(10, 3))\n",
        "print(math.fmod(-10, 3))"
      ],
      "metadata": {
        "id": "TXe52bomtIYp",
        "outputId": "a27f3e06-5bc3-4e93-be97-d05cb971a55d",
        "colab": {
          "base_uri": "https://localhost:8080/"
        }
      },
      "execution_count": 33,
      "outputs": [
        {
          "output_type": "stream",
          "name": "stdout",
          "text": [
            "10 % 3\t= 1\n",
            "-10 % 3\t= 2\n",
            "1.0\n",
            "-1.0\n"
          ]
        }
      ]
    },
    {
      "cell_type": "code",
      "source": [
        "# More math helpers\n",
        "print(math.floor(3 / 2))\n",
        "print(math.ceil(3 / 2))\n",
        "print(math.sqrt(2))\n",
        "print(math.pow(2, 3))\n",
        "\n",
        "# Max / Min Int\n",
        "print(float(\"inf\"))\n",
        "print(float(\"-inf\"))\n",
        "print(math.pow(2, 200))\n",
        "print(math.pow(2, 200) < float(\"inf\"))"
      ],
      "metadata": {
        "id": "-FRYqtNht-x5",
        "outputId": "f088ac02-6a18-4ffc-d1de-4d265efa98fa",
        "colab": {
          "base_uri": "https://localhost:8080/"
        }
      },
      "execution_count": 36,
      "outputs": [
        {
          "output_type": "stream",
          "name": "stdout",
          "text": [
            "1\n",
            "2\n",
            "1.4142135623730951\n",
            "8.0\n",
            "inf\n",
            "-inf\n",
            "1.6069380442589903e+60\n",
            "True\n"
          ]
        }
      ]
    },
    {
      "cell_type": "markdown",
      "source": [],
      "metadata": {
        "id": "_USwGzR7ulWX"
      }
    },
    {
      "cell_type": "code",
      "source": [],
      "metadata": {
        "id": "LUIXMjDruZM2"
      },
      "execution_count": null,
      "outputs": []
    }
  ]
}